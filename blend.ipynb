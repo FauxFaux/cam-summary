{
 "cells": [
  {
   "cell_type": "code",
   "execution_count": null,
   "metadata": {
    "pycharm": {
     "is_executing": false
    }
   },
   "outputs": [],
   "source": [
    "import imutils\n",
    "import itertools\n",
    "import cv2\n",
    "import colorsys\n",
    "import numpy as np\n",
    "from matplotlib import pyplot as plt\n",
    "plt.rcParams['figure.figsize'] = [20, 8]"
   ]
  },
  {
   "cell_type": "code",
   "execution_count": null,
   "metadata": {
    "pycharm": {
     "is_executing": false
    }
   },
   "outputs": [],
   "source": [
    "vid = cv2.VideoCapture('/var/tmp/cam1.mp4')\n",
    "def make_frames():\n",
    "    i = 0\n",
    "    while True:\n",
    "        status, frame = vid.read()\n",
    "        if not status:\n",
    "            break\n",
    "        yield cv2.cvtColor(frame, cv2.COLOR_BGR2RGB)\n",
    "    \n",
    "def show(*args):\n",
    "    if len(args) > 1:\n",
    "        imgs = np.hstack(tuple(args))\n",
    "    else:\n",
    "        imgs = args[0]\n",
    "    plt.imshow(imgs)\n",
    "    plt.show()\n",
    "frames = list(itertools.islice(make_frames(), 320, 820))"
   ]
  },
  {
   "cell_type": "code",
   "execution_count": null,
   "metadata": {
    "pycharm": {
     "is_executing": false
    }
   },
   "outputs": [],
   "source": [
    "len(frames)"
   ]
  },
  {
   "cell_type": "code",
   "execution_count": null,
   "metadata": {},
   "outputs": [],
   "source": [
    "show(*frames[250:290:10])"
   ]
  },
  {
   "cell_type": "code",
   "execution_count": null,
   "metadata": {},
   "outputs": [],
   "source": [
    "s=50\n",
    "gamma = 0.9\n",
    "base = cv2.absdiff(frames[s], frames[s+1])\n",
    "for i in range(s+1, 350):\n",
    "    if i % 20 == 0:\n",
    "        cv2.multiply(base, (gamma, gamma, gamma, gamma), base)\n",
    "    cv2.add(base, cv2.absdiff(cv2.GaussianBlur(frames[i+1], (21, 21), 0), cv2.GaussianBlur(frames[i], (21, 21), 0)), base)\n",
    "show(base)"
   ]
  },
  {
   "cell_type": "code",
   "execution_count": null,
   "metadata": {},
   "outputs": [],
   "source": [
    "s=220\n",
    "gamma = 0.9\n",
    "base = cv2.absdiff(frames[s], frames[s+1])\n",
    "for i in range(s+1, s+20):\n",
    "    cv2.add(base, cv2.absdiff(cv2.GaussianBlur(frames[i+1], (37, 37), 0), cv2.GaussianBlur(frames[i], (37, 37), 0)), base)\n",
    "mask = cv2.cvtColor(base, cv2.COLOR_RGB2GRAY).astype(np.float32) / 256\n",
    "cv2.multiply(mask, 2, mask)\n",
    "mask_rgb = cv2.cvtColor(mask, cv2.COLOR_GRAY2RGB)\n",
    "source = frames[s+10].copy().astype(np.float32) / 256\n",
    "cut = cv2.multiply(source, mask_rgb)\n",
    "inv_mask = cv2.cvtColor(1.0 - mask, cv2.COLOR_GRAY2RGB)\n",
    "back = cv2.multiply(frames[150].astype(np.float32)/256, inv_mask)\n",
    "show(frames[s+10].astype(np.float32)/256, cv2.add(cut, back))"
   ]
  },
  {
   "cell_type": "code",
   "execution_count": null,
   "metadata": {},
   "outputs": [],
   "source": [
    "def add_to(dest, block):\n",
    "    base = cv2.absdiff(block[0], block[1])\n",
    "    for i in range(1, len(block) - 1):\n",
    "        cv2.add(base, cv2.absdiff(cv2.GaussianBlur(block[i+1], (37, 37), 0), cv2.GaussianBlur(block[i], (37, 37), 0)), base)\n",
    "    mask = cv2.cvtColor(base, cv2.COLOR_RGB2GRAY).astype(np.float32) / 256\n",
    "    cv2.multiply(mask, 2, mask)\n",
    "    mask_rgb = cv2.cvtColor(mask, cv2.COLOR_GRAY2RGB)\n",
    "    source = block[len(block)//2].copy().astype(np.float32) / 256\n",
    "    cut = cv2.multiply(source, mask_rgb)\n",
    "    inv_mask = cv2.cvtColor(1.0 - mask, cv2.COLOR_GRAY2RGB)\n",
    "    # show(mask_rgb, inv_mask)\n",
    "    \n",
    "    back = cv2.multiply(dest, inv_mask)\n",
    "    cv2.add(back, cut, dest)\n",
    "\n",
    "def frames_from(n, w):\n",
    "    return frames[max(n, 0) : min(n+w, len(frames))]\n",
    "\n",
    "def train(s=80, w=20):\n",
    "    d = frames[0].copy().astype(np.float32) / 256\n",
    "    for i in range(0, len(frames), s):\n",
    "        add_to(d, frames_from(i, w))\n",
    "    return d\n",
    "\n",
    "show(train(80, 2), train(80, 20), train(80, 40))"
   ]
  },
  {
   "cell_type": "code",
   "execution_count": null,
   "metadata": {},
   "outputs": [],
   "source": [
    "show(train(40), train(120), train(180))"
   ]
  },
  {
   "cell_type": "code",
   "execution_count": null,
   "metadata": {},
   "outputs": [],
   "source": [
    "show(train(10, 5))"
   ]
  }
 ],
 "metadata": {
  "kernelspec": {
   "display_name": "Python 3",
   "language": "python",
   "name": "python3"
  },
  "language_info": {
   "codemirror_mode": {
    "name": "ipython",
    "version": 3
   },
   "file_extension": ".py",
   "mimetype": "text/x-python",
   "name": "python",
   "nbconvert_exporter": "python",
   "pygments_lexer": "ipython3",
   "version": "3.7.5"
  },
  "pycharm": {
   "stem_cell": {
    "cell_type": "raw",
    "metadata": {
     "collapsed": false
    },
    "source": []
   }
  }
 },
 "nbformat": 4,
 "nbformat_minor": 4
}
