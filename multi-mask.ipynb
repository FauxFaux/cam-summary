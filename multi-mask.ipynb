{
 "cells": [
  {
   "cell_type": "code",
   "execution_count": null,
   "metadata": {
    "pycharm": {
     "is_executing": false
    }
   },
   "outputs": [],
   "source": [
    "import imutils\n",
    "import itertools\n",
    "import cv2\n",
    "import colorsys\n",
    "import numpy as np\n",
    "from framedir import FrameDir\n",
    "from matplotlib import pyplot as plt\n",
    "plt.rcParams['figure.figsize'] = [20, 8]"
   ]
  },
  {
   "cell_type": "code",
   "execution_count": null,
   "metadata": {
    "pycharm": {
     "is_executing": false
    }
   },
   "outputs": [],
   "source": [
    "def show(*args):\n",
    "    if len(args) > 1:\n",
    "        imgs = np.hstack(tuple(args))\n",
    "        imgs = cv2.cvtColor(imgs, cv2.COLOR_BGR2RGB, imgs)\n",
    "    else:\n",
    "        imgs = cv2.cvtColor(args[0], cv2.COLOR_BGR2RGB)\n",
    "    plt.imshow(imgs)\n",
    "    del imgs\n",
    "    plt.show()"
   ]
  },
  {
   "cell_type": "code",
   "execution_count": null,
   "metadata": {
    "pycharm": {
     "is_executing": false
    }
   },
   "outputs": [],
   "source": [
    "# ffmpeg -i /var/tmp/cam1.mp4 '%04d.jpg'\n",
    "fd = FrameDir('/var/tmp/faux200327.announce')\n",
    "frames = list(fd.load(f) for f in range(320, 840))"
   ]
  },
  {
   "cell_type": "code",
   "execution_count": null,
   "metadata": {
    "pycharm": {
     "is_executing": false
    }
   },
   "outputs": [],
   "source": [
    "blurred = list(cv2.GaussianBlur(frame, (17, 17), 0) for frame in frames)"
   ]
  },
  {
   "cell_type": "code",
   "execution_count": null,
   "metadata": {},
   "outputs": [],
   "source": [
    "def median(frame_range, rate = 15):\n",
    "    (s, e) = frame_range\n",
    "    return np.median(np.array(blurred[s:e:rate]), axis=0).astype('uint8')\n",
    "show(median((150, 300)))"
   ]
  },
  {
   "cell_type": "code",
   "execution_count": null,
   "metadata": {},
   "outputs": [],
   "source": [
    "def mask(middle, now):\n",
    "    im = cv2.absdiff(middle, now)\n",
    "    im = cv2.cvtColor(im, cv2.COLOR_BGR2GRAY, im)\n",
    "    im = im.astype(np.float32) / 255.\n",
    "    return im\n",
    "\n",
    "    \n",
    "def mask_rgb(m):\n",
    "    return np.dstack((m,m,m))\n",
    "\n",
    "\n",
    "def show_mask(m):\n",
    "    show(mask_rgb(m))\n",
    "\n",
    "\n",
    "def time_mask(mid, frame_range, fudges = 5, skips = 2):\n",
    "    (s, e) = frame_range\n",
    "    im = mask(mid, blurred[s])\n",
    "    for n in blurred[s+skips : e : skips]:\n",
    "        x = mask(mid, n)\n",
    "        im = cv2.add(im, x, im)\n",
    "        del x\n",
    "    return im\n",
    "\n",
    "\n",
    "def thresh_mask(im, scale):\n",
    "    _, t = cv2.threshold(im / scale, 1, 1, cv2.THRESH_TRUNC)\n",
    "    return t"
   ]
  },
  {
   "cell_type": "code",
   "execution_count": null,
   "metadata": {},
   "outputs": [],
   "source": [
    "def mask_around(when):\n",
    "    median_range = 300\n",
    "    med = median((max(when - median_range // 2, 0), min(when + median_range // 2, len(frames))))\n",
    "    return time_mask(med, (when, when+30))\n",
    "\n",
    "def mask_scaled(im):\n",
    "    return im / np.max(im)\n",
    "\n",
    "#cv2.sumElems(mask_around(300))[0] / 1e3\n",
    "#np.max(mask_around(500))\n",
    "\n",
    "#t = time_mask(median((200, 400)), (300, 330))\n",
    "show(mask_rgb(mask_scaled(mask_around(200))), mask_rgb(mask_scaled(mask_around(280))), mask_rgb(mask_scaled(mask_scaled(mask_around(200)) * mask_scaled(mask_around(300)))))"
   ]
  },
  {
   "cell_type": "code",
   "execution_count": null,
   "metadata": {},
   "outputs": [],
   "source": [
    "src = frames[310]\n",
    "im = src.astype(np.float32) / 255.\n",
    "t_rgb = mask_rgb(t)\n",
    "i_rgb = mask_rgb(1 - t)\n",
    "cut = cv2.multiply(im, t_rgb, im, 1, cv2.CV_32F)\n",
    "back = cv2.multiply(frames[220].astype(np.float32) / 255., i_rgb, dtype=cv2.CV_32F)\n",
    "show(cv2.add(cut, back, cut))"
   ]
  }
 ],
 "metadata": {
  "kernelspec": {
   "display_name": "Python 3",
   "language": "python",
   "name": "python3"
  },
  "language_info": {
   "codemirror_mode": {
    "name": "ipython",
    "version": 3
   },
   "file_extension": ".py",
   "mimetype": "text/x-python",
   "name": "python",
   "nbconvert_exporter": "python",
   "pygments_lexer": "ipython3",
   "version": "3.7.5"
  },
  "pycharm": {
   "stem_cell": {
    "cell_type": "raw",
    "metadata": {
     "collapsed": false
    },
    "source": []
   }
  }
 },
 "nbformat": 4,
 "nbformat_minor": 4
}
