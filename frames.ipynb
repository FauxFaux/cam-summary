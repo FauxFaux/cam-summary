{
 "cells": [
  {
   "cell_type": "code",
   "execution_count": null,
   "metadata": {},
   "outputs": [],
   "source": [
    "import imutils\n",
    "import cv2\n",
    "import matplotlib\n",
    "import numpy as np\n",
    "from matplotlib import pyplot as plt\n",
    "plt.rcParams['figure.figsize'] = [20, 8]"
   ]
  },
  {
   "cell_type": "code",
   "execution_count": null,
   "metadata": {},
   "outputs": [],
   "source": [
    "vid = cv2.VideoCapture('/var/tmp/cam1.mp4')\n",
    "skips = int(vid.get(cv2.CAP_PROP_FPS) / 2)\n",
    "def make_frames():\n",
    "    i = 0\n",
    "    while True:\n",
    "        status, frame = vid.read()\n",
    "        if not status:\n",
    "            break\n",
    "        i += 1\n",
    "        if i == skips:\n",
    "            i = 0\n",
    "            yield cv2.cvtColor(frame, cv2.COLOR_BGR2RGB)\n",
    "\n",
    "frames = list(make_frames())"
   ]
  },
  {
   "cell_type": "code",
   "execution_count": null,
   "metadata": {},
   "outputs": [],
   "source": [
    "len(frames)"
   ]
  },
  {
   "cell_type": "code",
   "execution_count": null,
   "metadata": {},
   "outputs": [],
   "source": [
    "def show(*args):\n",
    "    if len(args) > 1:\n",
    "        imgs = np.hstack(tuple(args))\n",
    "    else:\n",
    "        imgs = args[0]\n",
    "    plt.imshow(imgs)\n",
    "    plt.show()\n",
    "    \n",
    "left = frames[39]\n",
    "right = frames[40]\n",
    "\n",
    "show(left, right)"
   ]
  },
  {
   "cell_type": "code",
   "execution_count": null,
   "metadata": {},
   "outputs": [],
   "source": []
  },
  {
   "cell_type": "code",
   "execution_count": null,
   "metadata": {},
   "outputs": [],
   "source": [
    "def pp(frame):\n",
    "    frame = imutils.resize(frame, width = 1000)\n",
    "    frame = cv2.cvtColor(frame, cv2.COLOR_RGB2GRAY)\n",
    "    frame = cv2.GaussianBlur(frame, (21, 21), 0)\n",
    "    return frame\n",
    "diff = cv2.absdiff(pp(left), pp(right))\n",
    "show(diff)"
   ]
  },
  {
   "cell_type": "code",
   "execution_count": null,
   "metadata": {},
   "outputs": [],
   "source": [
    "_, thresh = cv2.threshold(diff, 40, 255, cv2.THRESH_BINARY)\n",
    "show(thresh)"
   ]
  },
  {
   "cell_type": "code",
   "execution_count": null,
   "metadata": {},
   "outputs": [],
   "source": [
    "dilate = cv2.dilate(thresh, None, iterations = 2)\n",
    "show(dilate)"
   ]
  },
  {
   "cell_type": "code",
   "execution_count": null,
   "metadata": {},
   "outputs": [],
   "source": [
    "onto = left.copy()\n",
    "scale = left.shape[0]/float(dilate.shape[0])\n",
    "cnts, _ = cv2.findContours(dilate.copy(), cv2.RETR_EXTERNAL, cv2.CHAIN_APPROX_SIMPLE)\n",
    "for c in cnts:\n",
    "    if cv2.contourArea(c) < 500:\n",
    "        continue\n",
    "    (x, y, w, h) = cv2.boundingRect(c)\n",
    "    x = int(x*scale)\n",
    "    y = int(y*scale)\n",
    "    w = int(w*scale)\n",
    "    h = int(h*scale)\n",
    "    cv2.rectangle(onto, (x,y), (x+w,y+h), (0,255,0), 3)\n",
    "#onto = cv2.drawContours(onto, cnts, -1, (0,255,0), 3)\n",
    "show(onto)\n"
   ]
  }
 ],
 "metadata": {
  "kernelspec": {
   "display_name": "Python 3",
   "language": "python",
   "name": "python3"
  },
  "language_info": {
   "codemirror_mode": {
    "name": "ipython",
    "version": 3
   },
   "file_extension": ".py",
   "mimetype": "text/x-python",
   "name": "python",
   "nbconvert_exporter": "python",
   "pygments_lexer": "ipython3",
   "version": "3.7.5"
  }
 },
 "nbformat": 4,
 "nbformat_minor": 4
}
