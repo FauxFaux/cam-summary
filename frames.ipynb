{
 "cells": [
  {
   "cell_type": "code",
   "execution_count": null,
   "metadata": {
    "pycharm": {
     "is_executing": false
    }
   },
   "outputs": [],
   "source": [
    "import imutils\n",
    "import cv2\n",
    "import colorsys\n",
    "import numpy as np\n",
    "from matplotlib import pyplot as plt\n",
    "plt.rcParams['figure.figsize'] = [20, 8]"
   ]
  },
  {
   "cell_type": "code",
   "execution_count": null,
   "metadata": {
    "pycharm": {
     "is_executing": false
    }
   },
   "outputs": [],
   "source": [
    "vid = cv2.VideoCapture('/var/tmp/cam1.mp4')\n",
    "skips = int(vid.get(cv2.CAP_PROP_FPS) / 2)\n",
    "def make_frames():\n",
    "    i = 0\n",
    "    while True:\n",
    "        status, frame = vid.read()\n",
    "        if not status:\n",
    "            break\n",
    "        i += 1\n",
    "        if i == skips:\n",
    "            i = 0\n",
    "            yield cv2.cvtColor(frame, cv2.COLOR_BGR2RGB)\n",
    "        else:\n",
    "            del frame\n",
    "\n",
    "frames = list(make_frames())"
   ]
  },
  {
   "cell_type": "code",
   "execution_count": null,
   "metadata": {
    "pycharm": {
     "is_executing": false
    }
   },
   "outputs": [],
   "source": [
    "len(frames)"
   ]
  },
  {
   "cell_type": "code",
   "execution_count": null,
   "metadata": {
    "pycharm": {
     "is_executing": false
    }
   },
   "outputs": [],
   "source": [
    "def show(*args):\n",
    "    if len(args) > 1:\n",
    "        imgs = np.hstack(tuple(args))\n",
    "    else:\n",
    "        imgs = args[0]\n",
    "    plt.imshow(imgs)\n",
    "    plt.show()\n",
    "    \n",
    "left = frames[39]\n",
    "right = frames[40]\n",
    "\n",
    "show(left, right)"
   ]
  },
  {
   "cell_type": "code",
   "execution_count": null,
   "metadata": {
    "pycharm": {
     "is_executing": false
    }
   },
   "outputs": [],
   "source": [
    "def pp(frame):\n",
    "    frame = imutils.resize(frame, width = 1000)\n",
    "    frame = cv2.cvtColor(frame, cv2.COLOR_RGB2GRAY)\n",
    "    frame = cv2.GaussianBlur(frame, (21, 21), 0)\n",
    "    return frame\n",
    "diff = cv2.absdiff(pp(left), pp(right))\n",
    "show(diff)"
   ]
  },
  {
   "cell_type": "code",
   "execution_count": null,
   "metadata": {
    "pycharm": {
     "is_executing": false
    }
   },
   "outputs": [],
   "source": [
    "_, thresh = cv2.threshold(diff, 40, 255, cv2.THRESH_BINARY)\n",
    "show(thresh)"
   ]
  },
  {
   "cell_type": "code",
   "execution_count": null,
   "metadata": {
    "pycharm": {
     "is_executing": false
    }
   },
   "outputs": [],
   "source": [
    "dilate = cv2.dilate(thresh, None, iterations = 2)\n",
    "show(dilate)"
   ]
  },
  {
   "cell_type": "code",
   "execution_count": null,
   "metadata": {
    "pycharm": {
     "is_executing": false
    }
   },
   "outputs": [],
   "source": [
    "onto = left.copy()\n",
    "scale = left.shape[0]/float(dilate.shape[0])\n",
    "cnts, _ = cv2.findContours(dilate.copy(), cv2.RETR_EXTERNAL, cv2.CHAIN_APPROX_SIMPLE)\n",
    "for c in cnts:\n",
    "    if cv2.contourArea(c) < 500:\n",
    "        continue\n",
    "    (x, y, w, h) = cv2.boundingRect(c)\n",
    "    x = int(x*scale)\n",
    "    y = int(y*scale)\n",
    "    w = int(w*scale)\n",
    "    h = int(h*scale)\n",
    "    cv2.rectangle(onto, (x,y), (x+w,y+h), (0,255,0), 3)\n",
    "#onto = cv2.drawContours(onto, cnts, -1, (0,255,0), 3)\n",
    "show(onto)"
   ]
  },
  {
   "cell_type": "code",
   "execution_count": null,
   "metadata": {
    "collapsed": false,
    "jupyter": {
     "outputs_hidden": false
    },
    "pycharm": {
     "is_executing": false,
     "name": "#%%\n"
    }
   },
   "outputs": [],
   "source": [
    "# x, y, w, h\n",
    "def boxes_for_pair(left, right):\n",
    "    scaled = cv2.absdiff(pp(left), pp(right))\n",
    "    scale = left.shape[0]/float(scaled.shape[0])\n",
    "    _, scaled = cv2.threshold(scaled, 40, 255, cv2.THRESH_BINARY)\n",
    "    scaled = cv2.dilate(scaled, None, iterations = 2)\n",
    "    cnts, _ = cv2.findContours(scaled, cv2.RETR_EXTERNAL, cv2.CHAIN_APPROX_SIMPLE)\n",
    "    for c in cnts:\n",
    "        if cv2.contourArea(c) < 500:\n",
    "            continue\n",
    "        yield [int(p*scale) for p in cv2.boundingRect(c)]\n",
    "\n",
    "list(boxes_for_pair(left, right))"
   ]
  },
  {
   "cell_type": "code",
   "execution_count": null,
   "metadata": {
    "collapsed": false,
    "jupyter": {
     "outputs_hidden": false
    },
    "pycharm": {
     "name": "#%%\n"
    }
   },
   "outputs": [],
   "source": [
    "def render(left, right):\n",
    "    onto = left.copy()\n",
    "    for [x,y,w,h] in boxes_for_pair(left, right):\n",
    "        cv2.rectangle(onto, (x,y), (x+w,y+h), (0,255,0), 20)\n",
    "    return onto\n",
    "show(*[render(frames[x], frames[x+1]) for x in range(0,3)])"
   ]
  },
  {
   "cell_type": "code",
   "execution_count": null,
   "metadata": {},
   "outputs": [],
   "source": [
    "def colour(hue):\n",
    "    c = colorsys.hsv_to_rgb(hue, 0.8, 0.8)\n",
    "    return [int(r*256) for r in c]"
   ]
  },
  {
   "cell_type": "code",
   "execution_count": null,
   "metadata": {},
   "outputs": [],
   "source": [
    "onto = frames[0].copy()\n",
    "for i in range(len(frames) - 1):\n",
    "    a = frames[i]\n",
    "    b = frames[i + 1]\n",
    "    ml = mt = 9001\n",
    "    mr = mb = 0\n",
    "    found = False\n",
    "    for [x,y,w,h] in boxes_for_pair(a, b):\n",
    "        r = x+w\n",
    "        b = y+h\n",
    "        ml = min(x, ml)\n",
    "        mt = min(y, mt)\n",
    "        mr = max(r, mr)\n",
    "        mb = max(b, mb)\n",
    "        found = True\n",
    "    if found:\n",
    "        cv2.rectangle(onto, (ml, mt), (mr, mb), colour(i / float(len(frames))), 20)\n",
    "show(onto)"
   ]
  },
  {
   "cell_type": "code",
   "execution_count": null,
   "metadata": {},
   "outputs": [],
   "source": [
    "def motions():\n",
    "    for i in range(len(frames) - 1):\n",
    "        a = frames[i]\n",
    "        b = frames[i + 1]\n",
    "        ml = mt = 9001\n",
    "        mr = mb = 0\n",
    "        found = False\n",
    "        for [x,y,w,h] in boxes_for_pair(a, b):\n",
    "            r = x+w\n",
    "            b = y+h\n",
    "            ml = min(x, ml)\n",
    "            mt = min(y, mt)\n",
    "            mr = max(r, mr)\n",
    "            mb = max(b, mb)\n",
    "            found = True\n",
    "        if found:\n",
    "            yield (i, ml, mt, mr, mb)"
   ]
  },
  {
   "cell_type": "code",
   "execution_count": null,
   "metadata": {},
   "outputs": [],
   "source": [
    "def pluck(img, xy, rb):\n",
    "    (x, y) = xy\n",
    "    (r, b) = rb\n",
    "    return img[y:b, x:r]\n",
    "\n",
    "show(pluck(frames[0], (350, 1080), (400, 1130)))"
   ]
  },
  {
   "cell_type": "code",
   "execution_count": null,
   "metadata": {},
   "outputs": [],
   "source": [
    "def restack(*imgs):\n",
    "    h = max(img.shape[1] for img in imgs)\n",
    "    \n",
    "    return np.hstack(tuple(imutils.resize(img, height = h) for img in imgs))\n",
    "\n",
    "show(restack(\n",
    "    pluck(frames[0], (350, 1080), (400, 1130)),\n",
    "    pluck(frames[0], (2000, 500), (2200, 700)),\n",
    "))"
   ]
  },
  {
   "cell_type": "code",
   "execution_count": null,
   "metadata": {},
   "outputs": [],
   "source": [
    "show(restack(*[pluck(frames[i], (x,y),(r,b)) for i,x,y,r,b in list(motions())[1:25]]))"
   ]
  },
  {
   "cell_type": "code",
   "execution_count": null,
   "metadata": {},
   "outputs": [],
   "source": [
    "show(restack(*[pluck(frames[i], (x,y),(r,b)) for i,x,y,r,b in list(motions())[24:]]))"
   ]
  },
  {
   "cell_type": "code",
   "execution_count": null,
   "metadata": {},
   "outputs": [],
   "source": [
    "clear = frames[30]\n",
    "one = frames[36]\n",
    "two = frames[37]\n",
    "show(clear, one, two)"
   ]
  },
  {
   "cell_type": "code",
   "execution_count": null,
   "metadata": {},
   "outputs": [],
   "source": [
    "diff = cv2.absdiff(pp(clear), pp(one))\n",
    "show(diff)\n",
    "\n",
    "#_, thresh = cv2.threshold(diff, 40, 255, cv2.THRESH_BINARY)\n",
    "#show(thresh)"
   ]
  },
  {
   "cell_type": "code",
   "execution_count": null,
   "metadata": {},
   "outputs": [],
   "source": [
    "show(np.uint8((np.float32(clear) + np.float32(one) + np.float32(two))/3))"
   ]
  }
 ],
 "metadata": {
  "kernelspec": {
   "display_name": "Python 3",
   "language": "python",
   "name": "python3"
  },
  "language_info": {
   "codemirror_mode": {
    "name": "ipython",
    "version": 3
   },
   "file_extension": ".py",
   "mimetype": "text/x-python",
   "name": "python",
   "nbconvert_exporter": "python",
   "pygments_lexer": "ipython3",
   "version": "3.7.5"
  },
  "pycharm": {
   "stem_cell": {
    "cell_type": "raw",
    "metadata": {
     "collapsed": false
    },
    "source": []
   }
  }
 },
 "nbformat": 4,
 "nbformat_minor": 4
}
